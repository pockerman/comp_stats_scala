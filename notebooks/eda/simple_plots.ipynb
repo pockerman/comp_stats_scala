{
 "cells": [
  {
   "cell_type": "markdown",
   "metadata": {},
   "source": [
    "# Simple plots"
   ]
  },
  {
   "cell_type": "markdown",
   "metadata": {},
   "source": [
    "In this section we will see how to create simple plots with Scala. We will use the Breeze library to do so. Later on, we will use the Play framework and D3 to create backends for visualization. So let's get started."
   ]
  },
  {
   "cell_type": "markdown",
   "metadata": {},
   "source": [
    "The following snippet plots the sigmoid function."
   ]
  },
  {
   "cell_type": "markdown",
   "metadata": {},
   "source": [
    "```\n",
    "package visualization.basic\n",
    "\n",
    "import breeze.linalg._\n",
    "import breeze.plot._\n",
    "import breeze.numerics._\n",
    "\n",
    "object PlotSigmoid{\n",
    "\n",
    "\tdef main(args: Array[String]){\n",
    "\t\n",
    "\t\tprintln(\"PlotSigmoid demo....\")\n",
    "\t\t\n",
    "\t\tval x = linspace(-4.0, 4.0, 200)\n",
    "\t\tval fx = sigmoid(x)\n",
    "\t\n",
    "\t\t// This creates an empty Java Swing window \n",
    "\t\t// (which may appear on your taskbar or equivalent). \n",
    "\t\t// A figure can contain one or more plots.\n",
    "\t\tval fig = Figure()\n",
    "\t\t\n",
    "\t\t//  Let's add a plot to our figure:\n",
    "\t\tval plt = fig.subplot(0)\n",
    "\t\t\n",
    "\t\t// The plot function takes two arguments, \n",
    "\t\t// corresponding to the x and y values of the data series to be plotted. \n",
    "\t\t\n",
    "\t\tplt += plot(x, fx)\n",
    "\t\t\n",
    "\t\t// To view the changes, you need to refresh the figure\n",
    "\t\tfig.refresh()\n",
    "\t\t\n",
    "\t\t// You can also save the image programmatically as follows:\n",
    "\t\tfig.saveas(\"sigmoid.png\")\n",
    "\t}\n",
    "\n",
    "\n",
    "}\n",
    "```"
   ]
  },
  {
   "cell_type": "markdown",
   "metadata": {},
   "source": [
    "Let's now customize the plot."
   ]
  },
  {
   "cell_type": "markdown",
   "metadata": {},
   "source": [
    "```\n",
    "package visualization.basic\n",
    "\n",
    "import breeze.linalg._\n",
    "import breeze.plot._\n",
    "import breeze.numerics._\n",
    "\n",
    "object PlotSigmoidCustom{\n",
    "\n",
    "\tdef main(args: Array[String]){\n",
    "\t\n",
    "\t\tprintln(\"PlotSigmoid demo....\")\n",
    "\t\t\n",
    "\t\tval x = linspace(-4.0, 4.0, 200)\n",
    "\t\tval fx = sigmoid(x)\n",
    "\t\n",
    "\t\t// This creates an empty Java Swing window \n",
    "\t\t// (which may appear on your taskbar or equivalent). \n",
    "\t\t// A figure can contain one or more plots.\n",
    "\t\tval fig = Figure()\n",
    "\t\t\n",
    "\t\t//  Let's add a plot to our figure:\n",
    "\t\tval plt = fig.subplot(0)\n",
    "\t\t\n",
    "\t\t// The plot function takes two arguments, \n",
    "\t\t// corresponding to the x and y values of the data series to be plotted. \n",
    "\t\t\n",
    "\t\tplt += plot(x, fx)\n",
    "\t\t\n",
    "\t\t// To view the changes, you need to refresh the figure\n",
    "\t\tfig.refresh()\n",
    "\t\t\n",
    "\t\tval f3x = sigmoid(3.0*x)\n",
    "\t\tval f10x = sigmoid(10.0*x)\n",
    "\t\t\n",
    "\t\tplt += plot(x, f3x, name=\"Sigmoid(3x)\")\n",
    "\t\tplt += plot(x, f10x, name=\"Sigmoid(10x)\") \n",
    "\t\tplt.xlim(-4.0, 4.0)\n",
    "\t\tplt.xlabel = \"x\"\n",
    "\t\tplt.ylabel = \"f(x)\"\n",
    "\t\t\n",
    "\t\t// You can also save the image programmatically as follows:\n",
    "\t\t//fig.saveas(\"sigmoid.png\")\n",
    "\t\tfig.refresh()\n",
    "\t}\n",
    "\n",
    "\n",
    "}\n",
    "```"
   ]
  },
  {
   "cell_type": "code",
   "execution_count": null,
   "metadata": {},
   "outputs": [],
   "source": []
  }
 ],
 "metadata": {
  "kernelspec": {
   "display_name": "Python 3",
   "language": "python",
   "name": "python3"
  },
  "language_info": {
   "codemirror_mode": {
    "name": "ipython",
    "version": 3
   },
   "file_extension": ".py",
   "mimetype": "text/x-python",
   "name": "python",
   "nbconvert_exporter": "python",
   "pygments_lexer": "ipython3",
   "version": "3.8.10"
  }
 },
 "nbformat": 4,
 "nbformat_minor": 4
}
