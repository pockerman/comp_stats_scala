{
 "cells": [
  {
   "cell_type": "markdown",
   "metadata": {},
   "source": [
    "# Probability: Core concepts"
   ]
  },
  {
   "cell_type": "markdown",
   "metadata": {},
   "source": [
    "## Overview"
   ]
  },
  {
   "cell_type": "markdown",
   "metadata": {},
   "source": [
    "The notion of probability is a corner stone in statistics and machine learning algorithms we will discuss in the course of this text. The probability theory is devoted to the study of uncertain or random phenomena. Such phenomena, although they are not predictable in a deterministic fashion, may exhibit regularities. Hence, they are amenable to mathematical description via, idealized, probabilistic models. The aim of this  chapter is to  introduce some  core concepts from probability theory. Concretely, we will discuss the following:"
   ]
  },
  {
   "cell_type": "markdown",
   "metadata": {},
   "source": [
    "- Sample space and events\n",
    "- Axiomatic definition of probability\n",
    "- Bayesian probability\n",
    "- Independence and conditional independence"
   ]
  },
  {
   "cell_type": "markdown",
   "metadata": {},
   "source": [
    "## Axioms of probability"
   ]
  },
  {
   "cell_type": "markdown",
   "metadata": {},
   "source": [
    "Probability is a measure of uncertainty. Uncertainty stems from the fact that alternatives exist. Putting it differently, an uncertain phenomenon is characterized by a multiplicity of possible configurations or outcomes \\cite{gianluca2017}. For example, tossing a fair coin \n",
    "and stating the outcome is uncertain since we can have multiple outcomes; head or tails. Likewise, tossing a die is uncertain because it involves six possible outcomes; ${1,2,3,4,5,6}$. The representation of an uncertain phenomenon is the result of a modeling approach.\n",
    "Thus, it is not unique \\cite{gianluca2017}."
   ]
  },
  {
   "cell_type": "markdown",
   "metadata": {},
   "source": [
    "A random experiment is characterized by a sample space $\\Omega$. The sample space can be finite or infinite. Another name for $\\Omega$ is outcome set i,e. the set that consists of all possible outcomes of an experiment. The elements of $\\Omega$ are called events or realizations or experimental outcomes."
   ]
  },
  {
   "cell_type": "markdown",
   "metadata": {},
   "source": [
    "Any subset of the outcome set is called an event. In the die example for instance, the event of getting a face with an even value is described by the subset $E=\\{2,4,6\\}$. The event $E$ then occurs if the number on the face is either 2, 4 or 6. An event therefore consists of elements of $\\Omega$. An event with just one element is called an elementary event. Since events are subsets of the outcome set, we can apply on them the theory of sets.  "
   ]
  },
  {
   "cell_type": "markdown",
   "metadata": {},
   "source": [
    "In terms of events, $\\Omega$ is itself an event. In fact is the certain event i.e.\n",
    "it occurs in every trial. We can partition $\\Omega$ using disjoints sets $E_i$ such that"
   ]
  },
  {
   "cell_type": "markdown",
   "metadata": {},
   "source": [
    "\\begin{equation}\n",
    "\\cup_{i=1}^{N}E_i = \\Omega\n",
    "\\label{eq_1}\n",
    "\\end{equation}"
   ]
  },
  {
   "cell_type": "markdown",
   "metadata": {},
   "source": [
    "Furthermore, we define the union and intersection of two sets respectively as "
   ]
  },
  {
   "cell_type": "markdown",
   "metadata": {},
   "source": [
    "\\begin{equation}\n",
    "E_1 \\cup E_2 = \\{x \\in \\Omega: x\\in E_1~~ \\text{or}~~ x \\in E_2\\}\n",
    "\\label{eq_2}\n",
    "\\end{equation}"
   ]
  },
  {
   "cell_type": "markdown",
   "metadata": {},
   "source": [
    "\\begin{equation}\n",
    "E_1 \\cap E_2 = \\{x \\in \\Omega: x\\in E_1~~ \\text{and}~~ x \\in E_2\\}\n",
    "\\label{eq_3}\n",
    "\\end{equation}"
   ]
  },
  {
   "cell_type": "markdown",
   "metadata": {},
   "source": [
    "## References"
   ]
  },
  {
   "cell_type": "code",
   "execution_count": null,
   "metadata": {},
   "outputs": [],
   "source": []
  }
 ],
 "metadata": {
  "kernelspec": {
   "display_name": "Python 3",
   "language": "python",
   "name": "python3"
  },
  "language_info": {
   "codemirror_mode": {
    "name": "ipython",
    "version": 3
   },
   "file_extension": ".py",
   "mimetype": "text/x-python",
   "name": "python",
   "nbconvert_exporter": "python",
   "pygments_lexer": "ipython3",
   "version": "3.8.10"
  }
 },
 "nbformat": 4,
 "nbformat_minor": 4
}
