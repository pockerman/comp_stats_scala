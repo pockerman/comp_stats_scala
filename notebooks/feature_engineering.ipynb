{
 "cells": [
  {
   "cell_type": "markdown",
   "metadata": {},
   "source": [
    "# Feature engineering"
   ]
  },
  {
   "cell_type": "markdown",
   "metadata": {},
   "source": [
    "feature engineering. Features\n",
    "are transformations on input data that facilitate a downstream algorithm, like a classi-\n",
    "fier, to produce correct outcomes on new data. Feature engineering consists of com-\n",
    "ing up with the right transformations so that the downstream algorithm can solve a\n",
    "task. For instance, in order to tell ones from zeros in images of handwritten digits, we\n",
    "would come up with a set of filters to estimate the direction of edges over the image,\n",
    "and then train a classifier to predict the correct digit given a distribution of edge\n",
    "directions. Another useful feature could be the number of enclosed holes, as seen in a\n",
    "zero, an eight, and, particularly, loopy twos."
   ]
  }
 ],
 "metadata": {
  "kernelspec": {
   "display_name": "Python 3",
   "language": "python",
   "name": "python3"
  },
  "language_info": {
   "codemirror_mode": {
    "name": "ipython",
    "version": 3
   },
   "file_extension": ".py",
   "mimetype": "text/x-python",
   "name": "python",
   "nbconvert_exporter": "python",
   "pygments_lexer": "ipython3",
   "version": "3.8.10"
  }
 },
 "nbformat": 4,
 "nbformat_minor": 4
}
